{
 "cells": [
  {
   "cell_type": "code",
   "execution_count": 2,
   "id": "97ae54ad",
   "metadata": {},
   "outputs": [],
   "source": [
    "import numpy as np"
   ]
  },
  {
   "cell_type": "markdown",
   "id": "4e8d6ae2",
   "metadata": {},
   "source": [
    "# CREATING ARRAYS"
   ]
  },
  {
   "cell_type": "code",
   "execution_count": 4,
   "id": "810cbb24",
   "metadata": {},
   "outputs": [
    {
     "name": "stdout",
     "output_type": "stream",
     "text": [
      "[1 2 3 4 5]\n",
      "<class 'numpy.ndarray'>\n",
      "[1 2 3 4 5]\n",
      "<class 'numpy.ndarray'>\n"
     ]
    }
   ],
   "source": [
    "#NumPy is used to work with arrays. The array object in NumPy is called ndarray.\n",
    "#To create an ndarray, we can pass a list, tuple or any array-like object into the array() method, and it will be converted into an ndarray:\n",
    "arr = np.array((1, 2, 3, 4, 5))\n",
    "\n",
    "print(arr)\n",
    "print(type(arr))\n",
    "\n",
    "arr = np.array([1, 2, 3, 4, 5])\n",
    "\n",
    "print(arr)\n",
    "\n",
    "print(type(arr))\n"
   ]
  },
  {
   "cell_type": "code",
   "execution_count": 5,
   "id": "ae80ebf4",
   "metadata": {},
   "outputs": [
    {
     "name": "stdout",
     "output_type": "stream",
     "text": [
      "42\n",
      "[1 2 3 4 5]\n",
      "[[1 2 3]\n",
      " [4 5 6]]\n",
      "[[[1 2 3]\n",
      "  [4 5 6]]\n",
      "\n",
      " [[1 2 3]\n",
      "  [4 5 6]]]\n",
      "0\n",
      "1\n",
      "2\n",
      "3\n",
      "[[[[[1 2 3 4]]]]]\n",
      "number of dimensions : 5\n"
     ]
    }
   ],
   "source": [
    "#Array Dimensions\n",
    "#0D\n",
    "\n",
    "a = np.array(42)\n",
    "print(a)\n",
    "\n",
    "#1D\n",
    "b = np.array([1, 2, 3, 4, 5])\n",
    "print(b)\n",
    "\n",
    "#2D\n",
    "c = np.array([[1, 2, 3], [4, 5, 6]])\n",
    "print(c)\n",
    "\n",
    "#3D\n",
    "d = np.array([[[1, 2, 3], [4, 5, 6]], [[1, 2, 3], [4, 5, 6]]])\n",
    "print(d)\n",
    "\n",
    "print(a.ndim)\n",
    "print(b.ndim)\n",
    "print(c.ndim)\n",
    "print(d.ndim)\n",
    "\n",
    "#nD\n",
    "arr = np.array([1, 2, 3, 4], ndmin=5)\n",
    "print(arr)\n",
    "print('number of dimensions :', arr.ndim)"
   ]
  },
  {
   "cell_type": "markdown",
   "id": "4b4c1e64",
   "metadata": {},
   "source": [
    "## Array Indexing"
   ]
  },
  {
   "cell_type": "code",
   "execution_count": 7,
   "id": "98bbe764",
   "metadata": {},
   "outputs": [
    {
     "name": "stdout",
     "output_type": "stream",
     "text": [
      "1\n",
      "7\n",
      "2nd element on 1st row:  2\n",
      "6\n",
      "Last element from 2nd dim:  6\n"
     ]
    }
   ],
   "source": [
    "print(b[0])\n",
    "print(b[2] + b[3])\n",
    "print('2nd element on 1st row: ', c[0, 1])\n",
    "print(d[0, 1, 2])\n",
    "print('Last element from 2nd dim: ', c[1, -1])"
   ]
  },
  {
   "cell_type": "markdown",
   "id": "2eb93966",
   "metadata": {},
   "source": [
    "## Array Slicing"
   ]
  },
  {
   "cell_type": "code",
   "execution_count": 22,
   "id": "b2c949ff",
   "metadata": {},
   "outputs": [
    {
     "name": "stdout",
     "output_type": "stream",
     "text": [
      "[2 3 4 5]\n",
      "[5]\n",
      "[1 2 3 4]\n",
      "[3 4]\n",
      "[2 4]\n",
      "[1 3 5]\n",
      "[5 6]\n",
      "[[2 3]\n",
      " [5 6]]\n"
     ]
    }
   ],
   "source": [
    "#The result includes the start index, but excludes the end index.\n",
    "print(b[1:5])\n",
    "#Slice elements from index 4 to the end of the array:\n",
    "print(b[4:])\n",
    "#Slice elements from index 4 to the end of the array:\n",
    "print(b[:4])\n",
    "#Slice from the index 3 from the end to index 1 from the end:\n",
    "print(b[-3:-1])\n",
    "#Use the step value to determine the step of the slicing:\n",
    "print(b[1:5:2])\n",
    "print(b[::2])\n",
    "\n",
    "#Slicing 2-D Arrays\n",
    "print(c[1, 1:4])\n",
    "print(c[0:2, 1:4])"
   ]
  },
  {
   "cell_type": "markdown",
   "id": "5b35e3fe",
   "metadata": {},
   "source": [
    "## Array Copy vs view"
   ]
  },
  {
   "cell_type": "code",
   "execution_count": 26,
   "id": "b100c909",
   "metadata": {},
   "outputs": [
    {
     "name": "stdout",
     "output_type": "stream",
     "text": [
      "[42  2  3  4  5]\n",
      "[1 2 3 4 5]\n",
      "[42  2  3  4  5]\n",
      "[42  2  3  4  5]\n",
      "None\n",
      "[1 2 3 4 5]\n"
     ]
    }
   ],
   "source": [
    "#copy\n",
    "copy = np.array([1, 2, 3, 4, 5])\n",
    "copied = copy.copy()\n",
    "copy[0] = 42\n",
    "\n",
    "print(copy)\n",
    "print(copied)\n",
    "#view\n",
    "copy = np.array([1, 2, 3, 4, 5])\n",
    "copied = copy.view()\n",
    "copy[0] = 42\n",
    "\n",
    "print(copy)\n",
    "print(copied)\n",
    "\n",
    "#checking data\n",
    "copy = np.array([1, 2, 3, 4, 5])\n",
    "\n",
    "x = copy.copy()\n",
    "y = copy.view()\n",
    "\n",
    "print(x.base)\n",
    "print(y.base)"
   ]
  },
  {
   "cell_type": "markdown",
   "id": "1cfc1966",
   "metadata": {},
   "source": [
    "## Array Shape"
   ]
  },
  {
   "cell_type": "code",
   "execution_count": 29,
   "id": "7d8d2d72",
   "metadata": {},
   "outputs": [
    {
     "name": "stdout",
     "output_type": "stream",
     "text": [
      "(2, 4)\n",
      "[[[[[1 2 3 4]]]]]\n",
      "shape of array : (1, 1, 1, 1, 4)\n"
     ]
    }
   ],
   "source": [
    "#The example above returns (2, 4), which means that the array has 2 dimensions, where the first dimension has 2 elements and the second has 4.\n",
    "arr = np.array([[1, 2, 3, 4], [5, 6, 7, 8]])\n",
    "print(arr.shape)\n",
    "\n",
    "arr = np.array([1, 2, 3, 4], ndmin=5)\n",
    "print(arr)\n",
    "print('shape of array :', arr.shape)\n"
   ]
  },
  {
   "cell_type": "markdown",
   "id": "d018edbc",
   "metadata": {},
   "source": [
    "## Array Reshape"
   ]
  },
  {
   "cell_type": "code",
   "execution_count": 37,
   "id": "ed77a52b",
   "metadata": {},
   "outputs": [
    {
     "name": "stdout",
     "output_type": "stream",
     "text": [
      "[[ 1  2  3]\n",
      " [ 4  5  6]\n",
      " [ 7  8  9]\n",
      " [10 11 12]]\n",
      "[[[ 1  2]\n",
      "  [ 3  4]\n",
      "  [ 5  6]]\n",
      "\n",
      " [[ 7  8]\n",
      "  [ 9 10]\n",
      "  [11 12]]]\n",
      "[1 2 3 4 5 6 7 8]\n",
      "ud\n",
      "[[[1 2]\n",
      "  [3 4]]\n",
      "\n",
      " [[5 6]\n",
      "  [7 8]]]\n",
      "[1 2 3 4 5 6]\n"
     ]
    }
   ],
   "source": [
    "#Reshaping means changing the shape of an array.\n",
    "#1d to 2d\n",
    "arr = np.array([1, 2, 3, 4, 5, 6, 7, 8, 9, 10, 11, 12])\n",
    "newarr = arr.reshape(4, 3)\n",
    "print(newarr)\n",
    "\n",
    "\n",
    "#1d to 3d\n",
    "newarr = arr.reshape(2, 3, 2)\n",
    "print(newarr)\n",
    "\n",
    "\n",
    "#Can We Reshape Into any Shape?\n",
    "#Yes, as long as the elements required for reshaping are equal in both shapes.\n",
    "#We can reshape an 8 elements 1D array into 4 elements in 2 rows 2D array but we cannot reshape it into a 3 elements 3 rows 2D array as that would require 3x3 = 9 elements.\n",
    "arr = np.array([1, 2, 3, 4, 5, 6, 7, 8])\n",
    "# newarr = arr.reshape(3, 3) shows error : cannot reshape array of size 8 into shape (3,3)\n",
    "# print(newarr) \n",
    "print(arr.reshape(2, 4).base)\n",
    "\n",
    "\n",
    "#Unknown Dimension\n",
    "#You are allowed to have one \"unknown\" dimension.\n",
    "#Meaning that you do not have to specify an exact number for one of the dimensions in the reshape method.\n",
    "#Pass -1 as the value, and NumPy will calculate this number for you.\n",
    "print(\"ud\")\n",
    "newarr = arr.reshape(2, 2, -1)\n",
    "print(newarr)\n",
    "\n",
    "\n",
    "#Flattening the arrays\n",
    "#Flattening array means converting a multidimensional array into a 1D array.\n",
    "arr = np.array([[1, 2, 3], [4, 5, 6]])\n",
    "newarr = arr.reshape(-1)\n",
    "print(newarr)"
   ]
  },
  {
   "cell_type": "markdown",
   "id": "c5b75312",
   "metadata": {},
   "source": [
    "## Array Iterating"
   ]
  },
  {
   "cell_type": "code",
   "execution_count": 51,
   "id": "87d93890",
   "metadata": {},
   "outputs": [
    {
     "name": "stdout",
     "output_type": "stream",
     "text": [
      "1\n",
      "2\n",
      "3\n",
      "4\n",
      "5\n",
      "[1 2 3]\n",
      "[4 5 6]\n",
      "1\n",
      "2\n",
      "3\n",
      "4\n",
      "5\n",
      "6\n",
      "[[1 2 3]\n",
      " [4 5 6]]\n",
      "[[1 2 3]\n",
      " [4 5 6]]\n",
      "1\n",
      "2\n",
      "3\n",
      "4\n",
      "5\n",
      "6\n",
      "1\n",
      "2\n",
      "3\n",
      "4\n",
      "5\n",
      "6\n",
      "Iterating Arrays Using nditer\n",
      "1\n",
      "2\n",
      "3\n",
      "4\n",
      "5\n",
      "6\n",
      "7\n",
      "8\n",
      "b'1'\n",
      "b'2'\n",
      "b'3'\n",
      "b'4'\n",
      "b'5'\n",
      "1\n",
      "3\n",
      "5\n",
      "7\n",
      "(0,) 1\n",
      "(1,) 2\n",
      "(2,) 3\n",
      "(3,) 4\n",
      "(4,) 5\n",
      "(0, 0) 1\n",
      "(0, 1) 2\n",
      "(0, 2) 3\n",
      "(1, 0) 4\n",
      "(1, 1) 5\n",
      "(1, 2) 6\n"
     ]
    }
   ],
   "source": [
    "#1d array\n",
    "for x in b:\n",
    "  print(x)\n",
    "#2d array\n",
    "for x in c:\n",
    "  print(x)\n",
    "for x in c:\n",
    "  for y in x:\n",
    "    print(y)\n",
    "#3d array\n",
    "for x in d:\n",
    "  print(x)\n",
    "\n",
    "for x in d:\n",
    "  for y in x:\n",
    "    for z in y:\n",
    "      print(z)\n",
    "    \n",
    "#Iterating Arrays Using nditer()   \n",
    "print(\"Iterating Arrays Using nditer\")\n",
    "arr = np.array([[[1, 2], [3, 4]], [[5, 6], [7, 8]]])\n",
    "for x in np.nditer(arr):\n",
    "  print(x)\n",
    "\n",
    "#We can use op_dtypes argument and pass it the expected datatype to change the datatype of elements while iterating.\n",
    "#NumPy does not change the data type of the element in-place (where the element is in array) so it needs some other space to perform this action, that extra space is called buffer, and in order to enable it in nditer() we pass flags=['buffered'].\n",
    "for x in np.nditer(b, flags=['buffered'], op_dtypes=['S']):\n",
    "  print(x)\n",
    "\n",
    "#Iterating With Different Step Size\n",
    "arr = np.array([[1, 2, 3, 4], [5, 6, 7, 8]])\n",
    "for x in np.nditer(arr[:, ::2]):\n",
    "  print(x)\n",
    "\n",
    "#Enumeration means mentioning sequence number of somethings one by one.\n",
    "for idx, x in np.ndenumerate(b):\n",
    "  print(idx, x)\n",
    "\n",
    "for idx, x in np.ndenumerate(c):\n",
    "  print(idx, x)"
   ]
  },
  {
   "cell_type": "markdown",
   "id": "1b5cceb4",
   "metadata": {},
   "source": [
    "## Array Joining"
   ]
  },
  {
   "cell_type": "code",
   "execution_count": 12,
   "id": "773e3320",
   "metadata": {},
   "outputs": [
    {
     "name": "stdout",
     "output_type": "stream",
     "text": [
      "[1 2 3 4 5 6]\n",
      "[[1 2 5 6]\n",
      " [3 4 7 8]]\n",
      "[[1 4]\n",
      " [2 5]\n",
      " [3 6]]\n",
      "[1 2 3 4 5 6]\n",
      "[[1 2 3]\n",
      " [4 5 6]]\n",
      "[[[1 4]\n",
      "  [2 5]\n",
      "  [3 6]]]\n"
     ]
    }
   ],
   "source": [
    "#1d array\n",
    "arr1 = np.array([1, 2, 3])\n",
    "arr2 = np.array([4, 5, 6])\n",
    "arr = np.concatenate((arr1, arr2))\n",
    "print(arr)\n",
    "#2d array\n",
    "arr1 = np.array([[1, 2], [3, 4]])\n",
    "arr2 = np.array([[5, 6], [7, 8]])\n",
    "arr = np.concatenate((arr1, arr2), axis=1)\n",
    "print(arr)\n",
    "\n",
    "#Joining Arrays Using Stack Functions\n",
    "#Stacking is same as concatenation, the only difference is that stacking is done along a new axis.\n",
    "#We can concatenate two 1-D arrays along the second axis which would result in putting them one over the other, ie. stacking.\n",
    "#We pass a sequence of arrays that we want to join to the stack() method along with the axis. If axis is not explicitly passed it is taken as 0.#\n",
    "arr1 = np.array([1, 2, 3])\n",
    "arr2 = np.array([4, 5, 6])\n",
    "arr = np.stack((arr1, arr2), axis=1)\n",
    "print(arr)\n",
    "\n",
    "#Stacking along rows (NumPy provides a helper function: hstack() to stack along rows.)\n",
    "arr1 = np.array([1, 2, 3])\n",
    "\n",
    "arr2 = np.array([4, 5, 6])\n",
    "\n",
    "arr = np.hstack((arr1, arr2))\n",
    "\n",
    "print(arr)\n",
    "\n",
    "#NumPy provides a helper function: hstack() to stack along rows. (NumPy provides a helper function: vstack()  to stack along columns.)\n",
    "arr1 = np.array([1, 2, 3])\n",
    "arr2 = np.array([4, 5, 6])\n",
    "arr = np.vstack((arr1, arr2))\n",
    "print(arr)\n",
    "\n",
    "#Stacking Along Height (depth) (NumPy provides a helper function: dstack() to stack along height, which is the same as depth.)\n",
    "arr1 = np.array([1, 2, 3])\n",
    "arr2 = np.array([4, 5, 6])\n",
    "arr = np.dstack((arr1, arr2))\n",
    "print(arr)"
   ]
  },
  {
   "cell_type": "markdown",
   "id": "dfd75b4b",
   "metadata": {},
   "source": [
    "## Array Split"
   ]
  },
  {
   "cell_type": "code",
   "execution_count": 7,
   "id": "c4845f62",
   "metadata": {},
   "outputs": [
    {
     "name": "stdout",
     "output_type": "stream",
     "text": [
      "[array([1, 2]), array([3, 4]), array([5, 6])]\n",
      "[1 2]\n",
      "[3 4]\n",
      "[5 6]\n",
      "[array([1, 2]), array([3, 4]), array([5]), array([6])]\n",
      "[array([[1, 2],\n",
      "       [3, 4]]), array([[5, 6],\n",
      "       [7, 8]]), array([[ 9, 10],\n",
      "       [11, 12]])]\n",
      "[array([[ 1],\n",
      "       [ 4],\n",
      "       [ 7],\n",
      "       [10],\n",
      "       [13],\n",
      "       [16]]), array([[ 2],\n",
      "       [ 5],\n",
      "       [ 8],\n",
      "       [11],\n",
      "       [14],\n",
      "       [17]]), array([[ 3],\n",
      "       [ 6],\n",
      "       [ 9],\n",
      "       [12],\n",
      "       [15],\n",
      "       [18]])]\n"
     ]
    }
   ],
   "source": [
    "#Splitting 2-D Arrays\n",
    "arr = np.array([1, 2, 3, 4, 5, 6])\n",
    "newarr = np.array_split(arr, 3)\n",
    "print(newarr) #The return value is an array containing three arrays.\n",
    "\n",
    "print(newarr[0])\n",
    "print(newarr[1])\n",
    "print(newarr[2])\n",
    "\n",
    "newarr = np.array_split(arr, 4)\n",
    "print(newarr)\n",
    "\n",
    "#Splitting 2-D Arrays\n",
    "arr = np.array([[1, 2], [3, 4], [5, 6], [7, 8], [9, 10], [11, 12]])\n",
    "\n",
    "newarr = np.array_split(arr, 3)\n",
    "\n",
    "print(newarr)\n",
    "\n",
    "#Split the 2-D array into three 2-D arrays along rows.\n",
    "arr = np.array([[1, 2, 3], [4, 5, 6], [7, 8, 9], [10, 11, 12], [13, 14, 15], [16, 17, 18]])\n",
    "newarr = np.array_split(arr, 3, axis=1)\n",
    "print(newarr)\n",
    "\n",
    "#An alternate solution is using hsplit() opposite of hstack()\n",
    "#Similar alternates to vstack() and dstack() are available as vsplit() and dsplit()."
   ]
  },
  {
   "cell_type": "markdown",
   "id": "c2e015af",
   "metadata": {},
   "source": [
    "## Array Search"
   ]
  },
  {
   "cell_type": "code",
   "execution_count": 10,
   "id": "28f2fd84",
   "metadata": {},
   "outputs": [
    {
     "name": "stdout",
     "output_type": "stream",
     "text": [
      "(array([3, 5, 6], dtype=int64),)\n",
      "(array([1, 3, 5, 6], dtype=int64),)\n",
      "1\n",
      "[1 2 3]\n"
     ]
    }
   ],
   "source": [
    "arr = np.array([1, 2, 3, 4, 5, 4, 4])\n",
    "x = np.where(arr == 4)\n",
    "print(x)\n",
    "x = np.where(arr%2 == 0)\n",
    "print(x)\n",
    "\n",
    "#There is a method called searchsorted() which performs a binary search in the array, and returns the index where the specified value would be inserted to maintain the search order.\n",
    "arr = np.array([6, 7, 8, 9])\n",
    "x = np.searchsorted(arr, 7)\n",
    "print(x)\n",
    "\n",
    "#Search From the Right Side\n",
    "#x = np.searchsorted(arr, 7, side='right')\n",
    "\n",
    "#Multiple Values\n",
    "arr = np.array([1, 3, 5, 7])\n",
    "x = np.searchsorted(arr, [2, 4, 6])\n",
    "print(x)"
   ]
  },
  {
   "cell_type": "markdown",
   "id": "41d12720",
   "metadata": {},
   "source": [
    "## Array Sorting"
   ]
  },
  {
   "cell_type": "code",
   "execution_count": 11,
   "id": "f9f7f08e",
   "metadata": {},
   "outputs": [
    {
     "name": "stdout",
     "output_type": "stream",
     "text": [
      "[0 1 2 3]\n",
      "['apple' 'banana' 'cherry']\n",
      "[False  True  True]\n",
      "[[2 3 4]\n",
      " [0 1 5]]\n"
     ]
    }
   ],
   "source": [
    "#This method returns a copy of the array, leaving the original array unchanged.\n",
    "arr = np.array([3, 2, 0, 1])\n",
    "print(np.sort(arr))\n",
    "\n",
    "arr = np.array(['banana', 'cherry', 'apple'])\n",
    "print(np.sort(arr))\n",
    "\n",
    "arr = np.array([True, False, True])\n",
    "print(np.sort(arr))\n",
    "\n",
    "arr = np.array([[3, 2, 4], [5, 0, 1]])\n",
    "print(np.sort(arr))"
   ]
  },
  {
   "cell_type": "markdown",
   "id": "dea3a3a2",
   "metadata": {},
   "source": [
    "## Array Filter "
   ]
  },
  {
   "cell_type": "code",
   "execution_count": 12,
   "id": "ca5dfe11",
   "metadata": {},
   "outputs": [
    {
     "name": "stdout",
     "output_type": "stream",
     "text": [
      "[41 43]\n"
     ]
    }
   ],
   "source": [
    "arr = np.array([41, 42, 43, 44])\n",
    "x = [True, False, True, False]\n",
    "newarr = arr[x]\n",
    "print(newarr)"
   ]
  },
  {
   "cell_type": "markdown",
   "id": "55baddb3",
   "metadata": {},
   "source": [
    "## Numpy Random "
   ]
  },
  {
   "cell_type": "code",
   "execution_count": 19,
   "id": "de2737f5",
   "metadata": {},
   "outputs": [
    {
     "name": "stdout",
     "output_type": "stream",
     "text": [
      "36\n",
      "0.095071843852086\n",
      "[30 44 86 49  3]\n",
      "[[85 84 36  2 25]\n",
      " [13 55 62 40 90]\n",
      " [43 60 72 58 72]]\n",
      "[0.04559051 0.07437408 0.24190035 0.41541239 0.04305628]\n",
      "[[0.11259375 0.08414597 0.46868416 0.41446108 0.65056995]\n",
      " [0.25636194 0.20773197 0.66046266 0.04645907 0.95894302]\n",
      " [0.15926299 0.53607847 0.83720396 0.98601245 0.17493315]]\n",
      "3\n",
      "[[3 7 7 9 9]\n",
      " [9 5 9 9 3]\n",
      " [3 7 9 9 3]]\n"
     ]
    }
   ],
   "source": [
    "#Generate Random Number\n",
    "from numpy import random\n",
    "x = random.randint(100)\n",
    "print(x)\n",
    "\n",
    "#The random module's rand() method returns a random float between 0 and 1.\n",
    "x = random.rand()\n",
    "print(x)\n",
    "\n",
    "#Generate Random Array\n",
    "x=random.randint(100, size=(5)) #Generate a 1-D array containing 5 random integers from 0 to 100:\n",
    "print(x)\n",
    "\n",
    "x = random.randint(100, size=(3, 5)) #Generate a 2-D array with 3 rows, each row containing 5 random integers from 0 to 100:\n",
    "print(x)\n",
    "\n",
    "x = random.rand(5)\n",
    "print(x)\n",
    "\n",
    "x = random.rand(3, 5)\n",
    "print(x)\n",
    "\n",
    "#The choice() method allows you to generate a random value based on an array of values.\n",
    "#The choice() method takes an array as a parameter and randomly returns one of the values.\n",
    "x = random.choice([3, 5, 7, 9])\n",
    "print(x)\n",
    "\n",
    "x = random.choice([3, 5, 7, 9], size=(3, 5))\n",
    "print(x)"
   ]
  },
  {
   "cell_type": "code",
   "execution_count": null,
   "id": "8e48a53d",
   "metadata": {},
   "outputs": [],
   "source": []
  }
 ],
 "metadata": {
  "kernelspec": {
   "display_name": "Python 3 (ipykernel)",
   "language": "python",
   "name": "python3"
  },
  "language_info": {
   "codemirror_mode": {
    "name": "ipython",
    "version": 3
   },
   "file_extension": ".py",
   "mimetype": "text/x-python",
   "name": "python",
   "nbconvert_exporter": "python",
   "pygments_lexer": "ipython3",
   "version": "3.10.6"
  }
 },
 "nbformat": 4,
 "nbformat_minor": 5
}
